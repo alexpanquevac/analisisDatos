{
 "cells": [
  {
   "cell_type": "markdown",
   "metadata": {},
   "source": [
    "Conjunto de datos:\n",
    "\n",
    "Contiene información sobre la calidad del aire. URL:\n",
    "https://www.kaggle.com/datasets/epa/epa-historical-air-quality\n",
    "\n",
    "Ejercicio\n",
    "\n",
    "      1) Realizar un análisis exploratorio al conjunto de datos entregado, para ello debe crear diferentes preguntas e hipótesis a resolver en los datos partiendo de un problema que cada grupo debe plantear.\n",
    "      2) Después de realizar el análisis exploratorio, debe hacer el preprocesamiento de los datos según como considere: limpieza, transformación, reducción de datos o discretización de los datos. Para esto, puede usar pandas1.\n",
    "      3) Debe realizar un dashboard en PowerBI o Tableau para exponer visualmente las conclusiones del análisis exploratorio.\n",
    "      4)Luego de hacer el preprocesamiento y tener el conjunto de datos final, debe crear un modelo de Machine Learning de regresión lineal. Este modelo puede ser de predicción o regresión logística para clasificación. Debe buscar a forma de evaluar si el modelo está bien o no.\n",
    "\n",
    "# Entregables\n",
    "\n",
    "     • Análisis exploratorio en notebook (1 punto).\n",
    "     • Preprocesamiento de los datos (1.5 puntos).\n",
    "     • Visualización de datos con PowerBI o Tableau (1.5 puntos).\n",
    "     • Modelo de Machine Learning y evaluación del modelo (1 punto)"
   ]
  },
  {
   "cell_type": "markdown",
   "metadata": {},
   "source": [
    "# Results"
   ]
  },
  {
   "cell_type": "code",
   "execution_count": 1,
   "metadata": {},
   "outputs": [],
   "source": [
    "# Imports\n",
    "import pandas as pd\n",
    "import matplotlib.pyplot as plt"
   ]
  },
  {
   "cell_type": "code",
   "execution_count": 2,
   "metadata": {},
   "outputs": [
    {
     "data": {
      "text/html": [
       "<div>\n",
       "<style scoped>\n",
       "    .dataframe tbody tr th:only-of-type {\n",
       "        vertical-align: middle;\n",
       "    }\n",
       "\n",
       "    .dataframe tbody tr th {\n",
       "        vertical-align: top;\n",
       "    }\n",
       "\n",
       "    .dataframe thead th {\n",
       "        text-align: right;\n",
       "    }\n",
       "</style>\n",
       "<table border=\"1\" class=\"dataframe\">\n",
       "  <thead>\n",
       "    <tr style=\"text-align: right;\">\n",
       "      <th></th>\n",
       "      <th>RecordID</th>\n",
       "      <th>AQI</th>\n",
       "      <th>PM10</th>\n",
       "      <th>PM2_5</th>\n",
       "      <th>NO2</th>\n",
       "      <th>SO2</th>\n",
       "      <th>O3</th>\n",
       "      <th>Temperature</th>\n",
       "      <th>Humidity</th>\n",
       "      <th>WindSpeed</th>\n",
       "      <th>RespiratoryCases</th>\n",
       "      <th>CardiovascularCases</th>\n",
       "      <th>HospitalAdmissions</th>\n",
       "      <th>HealthImpactScore</th>\n",
       "      <th>HealthImpactClass</th>\n",
       "    </tr>\n",
       "  </thead>\n",
       "  <tbody>\n",
       "    <tr>\n",
       "      <th>0</th>\n",
       "      <td>1</td>\n",
       "      <td>187.270059</td>\n",
       "      <td>295.853039</td>\n",
       "      <td>13.038560</td>\n",
       "      <td>6.639263</td>\n",
       "      <td>66.161150</td>\n",
       "      <td>54.624280</td>\n",
       "      <td>5.150335</td>\n",
       "      <td>84.424344</td>\n",
       "      <td>6.137755</td>\n",
       "      <td>7</td>\n",
       "      <td>5</td>\n",
       "      <td>1</td>\n",
       "      <td>97.244041</td>\n",
       "      <td>0.0</td>\n",
       "    </tr>\n",
       "    <tr>\n",
       "      <th>1</th>\n",
       "      <td>2</td>\n",
       "      <td>475.357153</td>\n",
       "      <td>246.254703</td>\n",
       "      <td>9.984497</td>\n",
       "      <td>16.318326</td>\n",
       "      <td>90.499523</td>\n",
       "      <td>169.621728</td>\n",
       "      <td>1.543378</td>\n",
       "      <td>46.851415</td>\n",
       "      <td>4.521422</td>\n",
       "      <td>10</td>\n",
       "      <td>2</td>\n",
       "      <td>0</td>\n",
       "      <td>100.000000</td>\n",
       "      <td>0.0</td>\n",
       "    </tr>\n",
       "    <tr>\n",
       "      <th>2</th>\n",
       "      <td>3</td>\n",
       "      <td>365.996971</td>\n",
       "      <td>84.443191</td>\n",
       "      <td>23.111340</td>\n",
       "      <td>96.317811</td>\n",
       "      <td>17.875850</td>\n",
       "      <td>9.006794</td>\n",
       "      <td>1.169483</td>\n",
       "      <td>17.806977</td>\n",
       "      <td>11.157384</td>\n",
       "      <td>13</td>\n",
       "      <td>3</td>\n",
       "      <td>0</td>\n",
       "      <td>100.000000</td>\n",
       "      <td>0.0</td>\n",
       "    </tr>\n",
       "    <tr>\n",
       "      <th>3</th>\n",
       "      <td>4</td>\n",
       "      <td>299.329242</td>\n",
       "      <td>21.020609</td>\n",
       "      <td>14.273403</td>\n",
       "      <td>81.234403</td>\n",
       "      <td>48.323616</td>\n",
       "      <td>93.161033</td>\n",
       "      <td>21.925276</td>\n",
       "      <td>99.473373</td>\n",
       "      <td>15.302500</td>\n",
       "      <td>8</td>\n",
       "      <td>8</td>\n",
       "      <td>1</td>\n",
       "      <td>100.000000</td>\n",
       "      <td>0.0</td>\n",
       "    </tr>\n",
       "    <tr>\n",
       "      <th>4</th>\n",
       "      <td>5</td>\n",
       "      <td>78.009320</td>\n",
       "      <td>16.987667</td>\n",
       "      <td>152.111623</td>\n",
       "      <td>121.235461</td>\n",
       "      <td>90.866167</td>\n",
       "      <td>241.795138</td>\n",
       "      <td>9.217517</td>\n",
       "      <td>24.906837</td>\n",
       "      <td>14.534733</td>\n",
       "      <td>9</td>\n",
       "      <td>0</td>\n",
       "      <td>1</td>\n",
       "      <td>95.182643</td>\n",
       "      <td>0.0</td>\n",
       "    </tr>\n",
       "  </tbody>\n",
       "</table>\n",
       "</div>"
      ],
      "text/plain": [
       "   RecordID         AQI        PM10       PM2_5         NO2        SO2  \\\n",
       "0         1  187.270059  295.853039   13.038560    6.639263  66.161150   \n",
       "1         2  475.357153  246.254703    9.984497   16.318326  90.499523   \n",
       "2         3  365.996971   84.443191   23.111340   96.317811  17.875850   \n",
       "3         4  299.329242   21.020609   14.273403   81.234403  48.323616   \n",
       "4         5   78.009320   16.987667  152.111623  121.235461  90.866167   \n",
       "\n",
       "           O3  Temperature   Humidity  WindSpeed  RespiratoryCases  \\\n",
       "0   54.624280     5.150335  84.424344   6.137755                 7   \n",
       "1  169.621728     1.543378  46.851415   4.521422                10   \n",
       "2    9.006794     1.169483  17.806977  11.157384                13   \n",
       "3   93.161033    21.925276  99.473373  15.302500                 8   \n",
       "4  241.795138     9.217517  24.906837  14.534733                 9   \n",
       "\n",
       "   CardiovascularCases  HospitalAdmissions  HealthImpactScore  \\\n",
       "0                    5                   1          97.244041   \n",
       "1                    2                   0         100.000000   \n",
       "2                    3                   0         100.000000   \n",
       "3                    8                   1         100.000000   \n",
       "4                    0                   1          95.182643   \n",
       "\n",
       "   HealthImpactClass  \n",
       "0                0.0  \n",
       "1                0.0  \n",
       "2                0.0  \n",
       "3                0.0  \n",
       "4                0.0  "
      ]
     },
     "execution_count": 2,
     "metadata": {},
     "output_type": "execute_result"
    }
   ],
   "source": [
    "# Import DataSet\n",
    "air_quality = pd.read_csv(\"air_quality_health_impact_data.csv\")\n",
    "air_quality.head()\n",
    "# Viewing DataSet Structure\n"
   ]
  },
  {
   "cell_type": "markdown",
   "metadata": {},
   "source": [
    "#### DataSet Columns:\n",
    "\n",
    "    RecordID: Row Identificator\n",
    "    AQI: Air Quality Index: a measure of how polluted the air currently is or how polluted it is forecast to become.\n",
    "    PM10: Concentration of particulate matter less than 10 micrometers in diameter (μg/m³).\n",
    "    PM2_5: Concentration of particulate matter less than 2.5 micrometers in diameter (μg/m³).\n",
    "    NO2: Concentration of nitrogen dioxide (ppb).\n",
    "    SO2: Concentration of sulfur dioxide (ppb).\n",
    "    O3: Concentration of ozone (ppb).\n",
    "    Temperature: Temperature in degrees Celsius (°C).\n",
    "    Humidity: Humidity percentage (%).\n",
    "    WindSpeed: Wind speed in meters per second (m/s).\n",
    "    RespiratoryCases: Number of respiratory cases reported.\n",
    "    CardiovascularCases: Number of cardiovascular cases reported.\n",
    "    HospitalAdmissions: Number of hospital admissions reported.\n",
    "    HealthImpactScore: A score indicating the overall health impact based on air quality and other related factors, ranging from 0 to 100.\n",
    "    HealthImpactClass: Classification of the health impact based on the health impact.\n"
   ]
  },
  {
   "cell_type": "markdown",
   "metadata": {},
   "source": [
    "The DataSet have 5811 rows"
   ]
  },
  {
   "cell_type": "code",
   "execution_count": 3,
   "metadata": {},
   "outputs": [
    {
     "data": {
      "text/html": [
       "<div>\n",
       "<style scoped>\n",
       "    .dataframe tbody tr th:only-of-type {\n",
       "        vertical-align: middle;\n",
       "    }\n",
       "\n",
       "    .dataframe tbody tr th {\n",
       "        vertical-align: top;\n",
       "    }\n",
       "\n",
       "    .dataframe thead th {\n",
       "        text-align: right;\n",
       "    }\n",
       "</style>\n",
       "<table border=\"1\" class=\"dataframe\">\n",
       "  <thead>\n",
       "    <tr style=\"text-align: right;\">\n",
       "      <th></th>\n",
       "      <th>RecordID</th>\n",
       "      <th>AQI</th>\n",
       "      <th>PM10</th>\n",
       "      <th>PM2_5</th>\n",
       "      <th>NO2</th>\n",
       "      <th>SO2</th>\n",
       "      <th>O3</th>\n",
       "      <th>Temperature</th>\n",
       "      <th>Humidity</th>\n",
       "      <th>WindSpeed</th>\n",
       "      <th>RespiratoryCases</th>\n",
       "      <th>CardiovascularCases</th>\n",
       "      <th>HospitalAdmissions</th>\n",
       "      <th>HealthImpactScore</th>\n",
       "      <th>HealthImpactClass</th>\n",
       "    </tr>\n",
       "  </thead>\n",
       "  <tbody>\n",
       "    <tr>\n",
       "      <th>5806</th>\n",
       "      <td>5807</td>\n",
       "      <td>171.112762</td>\n",
       "      <td>11.246387</td>\n",
       "      <td>197.984628</td>\n",
       "      <td>158.643107</td>\n",
       "      <td>17.743678</td>\n",
       "      <td>280.370909</td>\n",
       "      <td>37.359323</td>\n",
       "      <td>61.707640</td>\n",
       "      <td>4.097129</td>\n",
       "      <td>14</td>\n",
       "      <td>5</td>\n",
       "      <td>2</td>\n",
       "      <td>100.000000</td>\n",
       "      <td>4.0</td>\n",
       "    </tr>\n",
       "    <tr>\n",
       "      <th>5807</th>\n",
       "      <td>5808</td>\n",
       "      <td>490.691667</td>\n",
       "      <td>275.340762</td>\n",
       "      <td>55.774170</td>\n",
       "      <td>132.336871</td>\n",
       "      <td>29.334724</td>\n",
       "      <td>108.043492</td>\n",
       "      <td>34.532542</td>\n",
       "      <td>21.528555</td>\n",
       "      <td>6.682549</td>\n",
       "      <td>8</td>\n",
       "      <td>6</td>\n",
       "      <td>2</td>\n",
       "      <td>100.000000</td>\n",
       "      <td>3.0</td>\n",
       "    </tr>\n",
       "    <tr>\n",
       "      <th>5808</th>\n",
       "      <td>5809</td>\n",
       "      <td>314.841798</td>\n",
       "      <td>41.892699</td>\n",
       "      <td>184.708551</td>\n",
       "      <td>82.105823</td>\n",
       "      <td>68.334578</td>\n",
       "      <td>105.568503</td>\n",
       "      <td>22.975564</td>\n",
       "      <td>92.725625</td>\n",
       "      <td>2.889698</td>\n",
       "      <td>12</td>\n",
       "      <td>2</td>\n",
       "      <td>3</td>\n",
       "      <td>100.000000</td>\n",
       "      <td>1.0</td>\n",
       "    </tr>\n",
       "    <tr>\n",
       "      <th>5809</th>\n",
       "      <td>5810</td>\n",
       "      <td>208.080473</td>\n",
       "      <td>165.533785</td>\n",
       "      <td>199.177255</td>\n",
       "      <td>100.796385</td>\n",
       "      <td>87.586488</td>\n",
       "      <td>166.469537</td>\n",
       "      <td>36.090620</td>\n",
       "      <td>25.836286</td>\n",
       "      <td>10.722393</td>\n",
       "      <td>6</td>\n",
       "      <td>2</td>\n",
       "      <td>3</td>\n",
       "      <td>100.000000</td>\n",
       "      <td>4.0</td>\n",
       "    </tr>\n",
       "    <tr>\n",
       "      <th>5810</th>\n",
       "      <td>5811</td>\n",
       "      <td>83.269257</td>\n",
       "      <td>82.216262</td>\n",
       "      <td>119.968244</td>\n",
       "      <td>193.440691</td>\n",
       "      <td>79.849177</td>\n",
       "      <td>28.681885</td>\n",
       "      <td>18.239090</td>\n",
       "      <td>77.096194</td>\n",
       "      <td>16.410320</td>\n",
       "      <td>14</td>\n",
       "      <td>2</td>\n",
       "      <td>2</td>\n",
       "      <td>81.668298</td>\n",
       "      <td>0.0</td>\n",
       "    </tr>\n",
       "  </tbody>\n",
       "</table>\n",
       "</div>"
      ],
      "text/plain": [
       "      RecordID         AQI        PM10       PM2_5         NO2        SO2  \\\n",
       "5806      5807  171.112762   11.246387  197.984628  158.643107  17.743678   \n",
       "5807      5808  490.691667  275.340762   55.774170  132.336871  29.334724   \n",
       "5808      5809  314.841798   41.892699  184.708551   82.105823  68.334578   \n",
       "5809      5810  208.080473  165.533785  199.177255  100.796385  87.586488   \n",
       "5810      5811   83.269257   82.216262  119.968244  193.440691  79.849177   \n",
       "\n",
       "              O3  Temperature   Humidity  WindSpeed  RespiratoryCases  \\\n",
       "5806  280.370909    37.359323  61.707640   4.097129                14   \n",
       "5807  108.043492    34.532542  21.528555   6.682549                 8   \n",
       "5808  105.568503    22.975564  92.725625   2.889698                12   \n",
       "5809  166.469537    36.090620  25.836286  10.722393                 6   \n",
       "5810   28.681885    18.239090  77.096194  16.410320                14   \n",
       "\n",
       "      CardiovascularCases  HospitalAdmissions  HealthImpactScore  \\\n",
       "5806                    5                   2         100.000000   \n",
       "5807                    6                   2         100.000000   \n",
       "5808                    2                   3         100.000000   \n",
       "5809                    2                   3         100.000000   \n",
       "5810                    2                   2          81.668298   \n",
       "\n",
       "      HealthImpactClass  \n",
       "5806                4.0  \n",
       "5807                3.0  \n",
       "5808                1.0  \n",
       "5809                4.0  \n",
       "5810                0.0  "
      ]
     },
     "execution_count": 3,
     "metadata": {},
     "output_type": "execute_result"
    }
   ],
   "source": [
    "#Number rows of DataSet\n",
    "air_quality.tail()"
   ]
  },
  {
   "cell_type": "code",
   "execution_count": 4,
   "metadata": {},
   "outputs": [
    {
     "data": {
      "text/plain": [
       "(5811, 15)"
      ]
     },
     "execution_count": 4,
     "metadata": {},
     "output_type": "execute_result"
    }
   ],
   "source": [
    "#DataSet Number of rows and columns\n",
    "air_quality.shape"
   ]
  },
  {
   "cell_type": "code",
   "execution_count": 8,
   "metadata": {},
   "outputs": [
    {
     "name": "stdout",
     "output_type": "stream",
     "text": [
      "<class 'pandas.core.frame.DataFrame'>\n",
      "RangeIndex: 5811 entries, 0 to 5810\n",
      "Data columns (total 15 columns):\n",
      " #   Column               Non-Null Count  Dtype  \n",
      "---  ------               --------------  -----  \n",
      " 0   RecordID             5811 non-null   int64  \n",
      " 1   AQI                  5811 non-null   float64\n",
      " 2   PM10                 5811 non-null   float64\n",
      " 3   PM2_5                5811 non-null   float64\n",
      " 4   NO2                  5811 non-null   float64\n",
      " 5   SO2                  5811 non-null   float64\n",
      " 6   O3                   5811 non-null   float64\n",
      " 7   Temperature          5811 non-null   float64\n",
      " 8   Humidity             5811 non-null   float64\n",
      " 9   WindSpeed            5811 non-null   float64\n",
      " 10  RespiratoryCases     5811 non-null   int64  \n",
      " 11  CardiovascularCases  5811 non-null   int64  \n",
      " 12  HospitalAdmissions   5811 non-null   int64  \n",
      " 13  HealthImpactScore    5811 non-null   float64\n",
      " 14  HealthImpactClass    5811 non-null   float64\n",
      "dtypes: float64(11), int64(4)\n",
      "memory usage: 681.1 KB\n"
     ]
    }
   ],
   "source": [
    "# General info of DataFrame\n",
    "# Types of variables\n",
    "# All values ​​are numerical \n",
    "air_quality.info()"
   ]
  },
  {
   "cell_type": "code",
   "execution_count": 9,
   "metadata": {},
   "outputs": [
    {
     "name": "stdout",
     "output_type": "stream",
     "text": [
      "[] \n",
      "\n",
      "\n"
     ]
    },
    {
     "data": {
      "text/plain": [
       "np.int64(0)"
      ]
     },
     "execution_count": 9,
     "metadata": {},
     "output_type": "execute_result"
    }
   ],
   "source": [
    "# No exists duplicated values\n",
    "print([x for x in air_quality.duplicated() if x == True] , '\\n\\n')\n",
    "air_quality.duplicated().sum()"
   ]
  },
  {
   "cell_type": "code",
   "execution_count": 12,
   "metadata": {},
   "outputs": [
    {
     "data": {
      "text/html": [
       "<div>\n",
       "<style scoped>\n",
       "    .dataframe tbody tr th:only-of-type {\n",
       "        vertical-align: middle;\n",
       "    }\n",
       "\n",
       "    .dataframe tbody tr th {\n",
       "        vertical-align: top;\n",
       "    }\n",
       "\n",
       "    .dataframe thead th {\n",
       "        text-align: right;\n",
       "    }\n",
       "</style>\n",
       "<table border=\"1\" class=\"dataframe\">\n",
       "  <thead>\n",
       "    <tr style=\"text-align: right;\">\n",
       "      <th></th>\n",
       "      <th>RecordID</th>\n",
       "      <th>AQI</th>\n",
       "      <th>PM10</th>\n",
       "      <th>PM2_5</th>\n",
       "      <th>NO2</th>\n",
       "      <th>SO2</th>\n",
       "      <th>O3</th>\n",
       "      <th>Temperature</th>\n",
       "      <th>Humidity</th>\n",
       "      <th>WindSpeed</th>\n",
       "      <th>RespiratoryCases</th>\n",
       "      <th>CardiovascularCases</th>\n",
       "      <th>HospitalAdmissions</th>\n",
       "      <th>HealthImpactScore</th>\n",
       "      <th>HealthImpactClass</th>\n",
       "    </tr>\n",
       "  </thead>\n",
       "  <tbody>\n",
       "  </tbody>\n",
       "</table>\n",
       "</div>"
      ],
      "text/plain": [
       "Empty DataFrame\n",
       "Columns: [RecordID, AQI, PM10, PM2_5, NO2, SO2, O3, Temperature, Humidity, WindSpeed, RespiratoryCases, CardiovascularCases, HospitalAdmissions, HealthImpactScore, HealthImpactClass]\n",
       "Index: []"
      ]
     },
     "execution_count": 12,
     "metadata": {},
     "output_type": "execute_result"
    }
   ],
   "source": [
    "air_quality[air_quality.duplicated()]"
   ]
  },
  {
   "cell_type": "code",
   "execution_count": 10,
   "metadata": {},
   "outputs": [
    {
     "data": {
      "text/plain": [
       "RecordID               0\n",
       "AQI                    0\n",
       "PM10                   0\n",
       "PM2_5                  0\n",
       "NO2                    0\n",
       "SO2                    0\n",
       "O3                     0\n",
       "Temperature            0\n",
       "Humidity               0\n",
       "WindSpeed              0\n",
       "RespiratoryCases       0\n",
       "CardiovascularCases    0\n",
       "HospitalAdmissions     0\n",
       "HealthImpactScore      0\n",
       "HealthImpactClass      0\n",
       "dtype: int64"
      ]
     },
     "execution_count": 10,
     "metadata": {},
     "output_type": "execute_result"
    }
   ],
   "source": [
    "# All values ​​are numerical \n",
    "air_quality.isna().sum()"
   ]
  },
  {
   "cell_type": "code",
   "execution_count": 7,
   "metadata": {},
   "outputs": [
    {
     "data": {
      "text/plain": [
       "RecordID               5811\n",
       "AQI                    5811\n",
       "PM10                   5811\n",
       "PM2_5                  5811\n",
       "NO2                    5811\n",
       "SO2                    5811\n",
       "O3                     5811\n",
       "Temperature            5811\n",
       "Humidity               5811\n",
       "WindSpeed              5811\n",
       "RespiratoryCases         23\n",
       "CardiovascularCases      15\n",
       "HospitalAdmissions       10\n",
       "HealthImpactScore      1528\n",
       "HealthImpactClass         5\n",
       "dtype: int64"
      ]
     },
     "execution_count": 7,
     "metadata": {},
     "output_type": "execute_result"
    }
   ],
   "source": [
    "# Non Unique values\n",
    "air_quality.nunique()"
   ]
  },
  {
   "cell_type": "code",
   "execution_count": 11,
   "metadata": {},
   "outputs": [
    {
     "data": {
      "text/plain": [
       "False    5811\n",
       "Name: count, dtype: int64"
      ]
     },
     "execution_count": 11,
     "metadata": {},
     "output_type": "execute_result"
    }
   ],
   "source": [
    "air_quality.isnull().mean() * 100 \n",
    "air_quality.duplicated().value_counts()"
   ]
  },
  {
   "cell_type": "markdown",
   "metadata": {},
   "source": [
    "### Problem\n",
    "        How does air quality affect the incidence of respiratory and cardiovascular diseases in the population?\n",
    "\n",
    "### Questions and Hypothesis\n",
    "\n",
    "        What is the relationship between the Air Quality Index (AQI) and the number of respiratory cases reported?\n",
    "        Which pollutant has the greatest impact on cases of respiratory and cardiovascular diseases?\n",
    "        How do meteorological conditions (temperature, humidity, wind speed) affect the incidence of respiratory and cardiovascular diseases?\n",
    "\n",
    "        As the AQI increases, the number of cases of respiratory diseases increases.\n",
    "        PM2.5 (fine particles) has a more significant impact on respiratory cases, while NO2 has more influence on cardiovascular diseases.\n",
    "        High temperatures and low humidity increase cases of respiratory diseases, due to the higher concentration of pollutants in the air.\n",
    "\n",
    "    "
   ]
  },
  {
   "cell_type": "code",
   "execution_count": null,
   "metadata": {},
   "outputs": [],
   "source": [
    "\n",
    "#¿Cuál es la relación entre el Índice de Calidad del Aire (AQI) y la cantidad de casos respiratorios reportados?\n",
    "#¿Qué contaminante tiene el mayor impacto en los casos de enfermedades respiratorias y cardiovasculares?\n",
    "#¿Cómo afectan las condiciones meteorológicas (temperatura, humedad, velocidad del viento) a la incidencia de enfermedades respiratorias y cardiovasculares?\n",
    "\n",
    "#A medida que aumenta el AQI, se incrementa el número de casos de enfermedades respiratorias.\n",
    "#El PM2.5 (partículas finas) tiene un impacto más significativo en los casos respiratorios, mientras que el NO2 influye más en las enfermedades cardiovasculares.\n",
    "#Altas temperaturas y baja humedad incrementan los casos de enfermedades respiratorias, debido a la mayor concentración de contaminantes en el aire."
   ]
  },
  {
   "cell_type": "markdown",
   "metadata": {},
   "source": [
    "## Data processing"
   ]
  },
  {
   "cell_type": "code",
   "execution_count": 17,
   "metadata": {},
   "outputs": [
    {
     "name": "stdout",
     "output_type": "stream",
     "text": [
      "RecordID               False\n",
      "AQI                    False\n",
      "PM10                   False\n",
      "PM2_5                  False\n",
      "NO2                    False\n",
      "SO2                    False\n",
      "O3                     False\n",
      "Temperature            False\n",
      "Humidity               False\n",
      "WindSpeed              False\n",
      "RespiratoryCases       False\n",
      "CardiovascularCases    False\n",
      "HospitalAdmissions     False\n",
      "HealthImpactScore      False\n",
      "HealthImpactClass      False\n",
      "dtype: bool\n",
      "0       False\n",
      "1       False\n",
      "2       False\n",
      "3       False\n",
      "4       False\n",
      "        ...  \n",
      "5806    False\n",
      "5807    False\n",
      "5808    False\n",
      "5809    False\n",
      "5810    False\n",
      "Length: 5811, dtype: bool\n"
     ]
    }
   ],
   "source": [
    "# Not exists null values\n",
    "print(air_quality.isnull().all())\n",
    "print(air_quality.isnull().all(axis = 1))"
   ]
  },
  {
   "cell_type": "code",
   "execution_count": 29,
   "metadata": {},
   "outputs": [
    {
     "name": "stdout",
     "output_type": "stream",
     "text": [
      "248.4384763401845\n",
      "249.12784113172685\n",
      "0.0058173776830705\n"
     ]
    }
   ],
   "source": [
    "print(air_quality['AQI'].mean())\n",
    "print(air_quality['AQI'].median())\n",
    "print(air_quality['AQI'].mode()[0])"
   ]
  },
  {
   "cell_type": "code",
   "execution_count": 4,
   "metadata": {},
   "outputs": [
    {
     "data": {
      "text/plain": [
       "<Axes: >"
      ]
     },
     "execution_count": 4,
     "metadata": {},
     "output_type": "execute_result"
    },
    {
     "data": {
      "image/png": "[encoded data removed]",
      "text/plain": [
       "<Figure size 640x480 with 1 Axes>"
      ]
     },
     "metadata": {},
     "output_type": "display_data"
    }
   ],
   "source": [
    "air_quality.boxplot(column=[\"AQI\"])"
   ]
  },
  {
   "cell_type": "code",
   "execution_count": 3,
   "metadata": {},
   "outputs": [
    {
     "data": {
      "text/plain": [
       "<Axes: >"
      ]
     },
     "execution_count": 3,
     "metadata": {},
     "output_type": "execute_result"
    },
    {
     "data": {
      "image/png": "[encoded data removed]",
      "text/plain": [
       "<Figure size 640x480 with 1 Axes>"
      ]
     },
     "metadata": {},
     "output_type": "display_data"
    }
   ],
   "source": [
    "air_quality.boxplot(column=[\"Temperature\"])"
   ]
  },
  {
   "cell_type": "code",
   "execution_count": 3,
   "metadata": {},
   "outputs": [
    {
     "data": {
      "text/plain": [
       "RecordID               0.0\n",
       "AQI                    0.0\n",
       "PM10                   0.0\n",
       "PM2_5                  0.0\n",
       "NO2                    0.0\n",
       "SO2                    0.0\n",
       "O3                     0.0\n",
       "Temperature            0.0\n",
       "Humidity               0.0\n",
       "WindSpeed              0.0\n",
       "RespiratoryCases       0.0\n",
       "CardiovascularCases    0.0\n",
       "HospitalAdmissions     0.0\n",
       "HealthImpactScore      0.0\n",
       "HealthImpactClass      0.0\n",
       "dtype: float64"
      ]
     },
     "execution_count": 3,
     "metadata": {},
     "output_type": "execute_result"
    }
   ],
   "source": [
    "air_quality.isnull().mean()*100"
   ]
  },
  {
   "cell_type": "code",
   "execution_count": 14,
   "metadata": {},
   "outputs": [],
   "source": [
    "def calculate_outlier(col, constant):\n",
    "    mean = air_quality[col].mean()\n",
    "    dev_std = air_quality[col].std()\n",
    "    \n",
    "    lim_sup = mean + (dev_std * constant)\n",
    "    lim_inf = mean - (dev_std * constant)\n",
    "    \n",
    "    print(\"calculating the limits for: \", col)\n",
    "    print(f\"lim_sup: {lim_sup}\")\n",
    "    print(f\"lim_inf: {lim_inf}\")\n",
    "    print(f\"mean: {mean}\")\n",
    "    print(f\"max: {air_quality[col].max()}\")\n",
    "    print(f\"min: {air_quality[col].min()}\")\n",
    "    \n",
    "    print(\"Total outliers in sup: \", air_quality[air_quality[col] > lim_sup].shape[0])\n",
    "    print(\"Total outliers in inf: \", air_quality[air_quality[col] < lim_inf].shape[0])\n",
    "    \n",
    "    air_quality.boxplot(column=[col])\n",
    "    plt.show()\n",
    "    \n",
    "    plt.hist(air_quality[col])\n",
    "    plt.show()\n",
    "    print(\"\\n\")\n",
    "    \n",
    "    return lim_inf, lim_sup"
   ]
  },
  {
   "cell_type": "code",
   "execution_count": 15,
   "metadata": {},
   "outputs": [
    {
     "name": "stdout",
     "output_type": "stream",
     "text": [
      "calculating the limits for:  Temperature\n",
      "lim_sup: 22.21703328432275\n",
      "lim_inf: 7.7339658497082775\n",
      "mean: 14.975499567015513\n",
      "max: 39.9634342598158\n",
      "min: -9.99099805080186\n",
      "Total outliers in sup:  2046\n",
      "Total outliers in inf:  2087\n"
     ]
    },
    {
     "data": {
      "image/png": "[encoded data removed]",
      "text/plain": [
       "<Figure size 640x480 with 1 Axes>"
      ]
     },
     "metadata": {},
     "output_type": "display_data"
    },
    {
     "data": {
      "image/png": "[encoded data removed]",
      "text/plain": [
       "<Figure size 640x480 with 1 Axes>"
      ]
     },
     "metadata": {},
     "output_type": "display_data"
    },
    {
     "name": "stdout",
     "output_type": "stream",
     "text": [
      "\n",
      "\n"
     ]
    }
   ],
   "source": [
    "lim_inf, lim_sup = calculate_outlier(\"Temperature\", 0.5)\n",
    "\n",
    "air_quality = air_quality[(air_quality[\"Temperature\"] >= lim_inf) & (air_quality[\"Temperature\"] <= lim_sup)]"
   ]
  },
  {
   "cell_type": "code",
   "execution_count": 16,
   "metadata": {},
   "outputs": [
    {
     "name": "stdout",
     "output_type": "stream",
     "text": [
      "calculating the limits for:  Humidity\n",
      "lim_sup: 132.8944147297923\n",
      "lim_inf: -24.203990203957993\n",
      "mean: 54.34521226291715\n",
      "max: 99.9841375177176\n",
      "min: 10.129802498646152\n",
      "Total outliers in sup:  0\n",
      "Total outliers in inf:  0\n"
     ]
    },
    {
     "data": {
      "image/png": "[encoded data removed]",
      "text/plain": [
       "<Figure size 640x480 with 1 Axes>"
      ]
     },
     "metadata": {},
     "output_type": "display_data"
    },
    {
     "data": {
      "image/png": "[encoded data removed]",
      "text/plain": [
       "<Figure size 640x480 with 1 Axes>"
      ]
     },
     "metadata": {},
     "output_type": "display_data"
    },
    {
     "name": "stdout",
     "output_type": "stream",
     "text": [
      "\n",
      "\n"
     ]
    }
   ],
   "source": [
    "lim_inf, lim_sup = calculate_outlier(\"Humidity\", 3)"
   ]
  },
  {
   "cell_type": "code",
   "execution_count": 22,
   "metadata": {},
   "outputs": [
    {
     "data": {
      "image/png": "[encoded data removed]",
      "text/plain": [
       "<Figure size 640x480 with 1 Axes>"
      ]
     },
     "metadata": {},
     "output_type": "display_data"
    },
    {
     "data": {
      "image/png": "[encoded data removed]",
      "text/plain": [
       "<Figure size 640x480 with 1 Axes>"
      ]
     },
     "metadata": {},
     "output_type": "display_data"
    },
    {
     "data": {
      "image/png": "[encoded data removed]",
      "text/plain": [
       "<Figure size 640x480 with 1 Axes>"
      ]
     },
     "metadata": {},
     "output_type": "display_data"
    }
   ],
   "source": [
    "def show_plot_bar(col):\n",
    "    categories = air_quality[col].value_counts()\n",
    "    plt.bar(categories.index, categories.values)\n",
    "    plt.title(\"Bar of \" + col)\n",
    "    plt.xticks(rotation=30)\n",
    "    plt.show()\n",
    "\n",
    "categoric_vars = [\"CardiovascularCases\",\"HospitalAdmissions\",\t\"RespiratoryCases\"]\n",
    "\n",
    "\n",
    "for var in categoric_vars:\n",
    "    show_plot_bar(var)"
   ]
  },
  {
   "cell_type": "code",
   "execution_count": 23,
   "metadata": {},
   "outputs": [
    {
     "data": {
      "image/png": "[encoded data removed]",
      "text/plain": [
       "<Figure size 640x480 with 1 Axes>"
      ]
     },
     "metadata": {},
     "output_type": "display_data"
    }
   ],
   "source": [
    "air_quality.hist(\"PM10\")\n",
    "plt.show()"
   ]
  }
 ],
 "metadata": {
  "kernelspec": {
   "display_name": "Python 3",
   "language": "python",
   "name": "python3"
  },
  "language_info": {
   "codemirror_mode": {
    "name": "ipython",
    "version": 3
   },
   "file_extension": ".py",
   "mimetype": "text/x-python",
   "name": "python",
   "nbconvert_exporter": "python",
   "pygments_lexer": "ipython3",
   "version": "3.12.5"
  }
 },
 "nbformat": 4,
 "nbformat_minor": 2
}
